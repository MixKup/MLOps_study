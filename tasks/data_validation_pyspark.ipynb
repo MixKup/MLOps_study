{
 "cells": [
  {
   "cell_type": "code",
   "execution_count": 8,
   "id": "5aa066c8",
   "metadata": {},
   "outputs": [
    {
     "name": "stdout",
     "output_type": "stream",
     "text": [
      "Defaulting to user installation because normal site-packages is not writeable\n",
      "Requirement already satisfied: pyspark in ./.local/lib/python3.8/site-packages (3.4.1)\n",
      "Requirement already satisfied: py4j==0.10.9.7 in ./.local/lib/python3.8/site-packages (from pyspark) (0.10.9.7)\n",
      "Defaulting to user installation because normal site-packages is not writeable\n",
      "Requirement already satisfied: findspark in ./.local/lib/python3.8/site-packages (2.0.1)\n"
     ]
    }
   ],
   "source": [
    "!pip3 install pyspark\n",
    "!pip3 install findspark"
   ]
  },
  {
   "cell_type": "code",
   "execution_count": 1,
   "id": "0d3754a1",
   "metadata": {},
   "outputs": [],
   "source": [
    "import findspark\n",
    "findspark.init()"
   ]
  },
  {
   "cell_type": "code",
   "execution_count": 2,
   "id": "6fba821f",
   "metadata": {},
   "outputs": [],
   "source": [
    "\n",
    "import pyspark\n",
    "\n",
    "spark = (\n",
    "    pyspark.sql.SparkSession.builder\n",
    "        .appName('MK')\n",
    "        .master(\"local[2]\") # limit executor to 2 cores\n",
    "        .config(\"spark.executor.memory\", \"8g\")\n",
    "        .config(\"spark.driver.memory\", \"8g\")\n",
    "        .config(\"spark.ui.port\", '4040')\n",
    "        .getOrCreate()\n",
    ")\n",
    "spark.conf.set('spark.sql.repl.eagerEval.enabled', True)"
   ]
  },
  {
   "cell_type": "code",
   "execution_count": null,
   "id": "e96f08db",
   "metadata": {},
   "outputs": [],
   "source": []
  },
  {
   "cell_type": "code",
   "execution_count": 4,
   "id": "f83835f2",
   "metadata": {},
   "outputs": [
    {
     "name": "stdout",
     "output_type": "stream",
     "text": [
      "+-------------+-------------------+-----------+-----------+---------+---------------+------------+--------+-----------------+\n",
      "|tranaction_id|        tx_datetime|customer_id|terminal_id|tx_amount|tx_time_seconds|tx_time_days|tx_fraud|tx_fraud_scenario|\n",
      "+-------------+-------------------+-----------+-----------+---------+---------------+------------+--------+-----------------+\n",
      "|     46988237|2019-09-21 09:45:59|          1|        178|    83.11|        2627159|          30|       0|                0|\n",
      "|     46988238|2019-09-21 19:33:01|          2|        660|    22.15|        2662381|          30|       0|                0|\n",
      "|     46988239|2019-09-21 18:06:19|          3|        732|    36.83|        2657179|          30|       0|                0|\n",
      "|     46988240|2019-09-21 16:56:01|         10|        663|     19.3|        2652961|          30|       0|                0|\n",
      "|     46988241|2019-09-21 05:34:26|         10|        145|   106.51|        2612066|          30|       0|                0|\n",
      "+-------------+-------------------+-----------+-----------+---------+---------------+------------+--------+-----------------+\n",
      "only showing top 5 rows\n",
      "\n",
      "root\n",
      " |-- tranaction_id: string (nullable = true)\n",
      " |-- tx_datetime: string (nullable = true)\n",
      " |-- customer_id: string (nullable = true)\n",
      " |-- terminal_id: string (nullable = true)\n",
      " |-- tx_amount: float (nullable = true)\n",
      " |-- tx_time_seconds: integer (nullable = true)\n",
      " |-- tx_time_days: integer (nullable = true)\n",
      " |-- tx_fraud: integer (nullable = true)\n",
      " |-- tx_fraud_scenario: integer (nullable = true)\n",
      "\n",
      "None\n",
      "[('tranaction_id', 'string'), ('tx_datetime', 'string'), ('customer_id', 'string'), ('terminal_id', 'string'), ('tx_amount', 'float'), ('tx_time_seconds', 'int'), ('tx_time_days', 'int'), ('tx_fraud', 'int'), ('tx_fraud_scenario', 'int')]\n"
     ]
    }
   ],
   "source": [
    "from pyspark.sql.types import StructField, IntegerType, StructType, StringType, FloatType\n",
    "newDF=[StructField('tranaction_id',StringType(),True),\n",
    "       StructField('tx_datetime',StringType(),True),\n",
    "       StructField('customer_id',StringType(),True),\n",
    "       StructField('terminal_id',StringType(),True),\n",
    "       StructField('tx_amount',FloatType(),True),\n",
    "       StructField('tx_time_seconds',IntegerType(),True),\n",
    "       StructField('tx_time_days',IntegerType(),True),\n",
    "       StructField('tx_fraud',IntegerType(),True),\n",
    "       StructField('tx_fraud_scenario',IntegerType(),True)\n",
    "       ]\n",
    "finalStruct=StructType(fields=newDF)\n",
    "df = spark.read.csv('s3a://mlops-course-bucket/second_hw/2019-09-21.txt',schema=finalStruct, header=True)\n",
    "\n",
    "df.show(5)\n",
    "\n",
    "print(df.printSchema())\n",
    "print(df.dtypes)"
   ]
  },
  {
   "cell_type": "code",
   "execution_count": null,
   "id": "fba1c726",
   "metadata": {},
   "outputs": [],
   "source": []
  },
  {
   "cell_type": "code",
   "execution_count": 4,
   "id": "a8e0e42f",
   "metadata": {},
   "outputs": [],
   "source": []
  },
  {
   "cell_type": "markdown",
   "id": "d61107b5",
   "metadata": {},
   "source": [
    "# identificators"
   ]
  },
  {
   "cell_type": "markdown",
   "id": "4e37aa65",
   "metadata": {},
   "source": [
    " \n",
    "### [x] tranaction_id - проверка символов на цифры. если нулл - удалить. битые - заменить;\n",
    "### [x] customer_id - проверка символов на цифры. если нулл - удалить. битые - заменить;\n",
    "### [x] terminal_id - проверка символов на цифры. если нулл - удалить. битые - заменить.\n"
   ]
  },
  {
   "cell_type": "code",
   "execution_count": 8,
   "id": "5bca6a4a",
   "metadata": {},
   "outputs": [],
   "source": [
    "from pyspark.ml import Pipeline, Transformer\n",
    "from pyspark.sql.functions import col,lit\n",
    "\n",
    "\n",
    "class ValidationIds(Transformer):\n",
    "    def __init__(self):\n",
    "        super(ValidationIds, self).__init__()\n",
    "        self.counter = {'tranaction_id': 1, 'customer_id': 1, 'terminal_id': 1}\n",
    "\n",
    "    def _transform(self, df):\n",
    "        df = df.dropna(subset=list(self.counter.keys())) # drop nans\n",
    "        \n",
    "        for colid in self.counter.keys(): # edit non-digits\n",
    "            dq = df.filter(df[colid].rlike('\\D+'))\n",
    "            df = df[~df[colid].rlike('\\D+')]\n",
    "            dq = dq.withColumn(colid, lit('undefinded_' + colid.split('id')[0] + str(self.counter[colid])))\n",
    "            self.counter[colid] += 1\n",
    "            df = df.union(dq)\n",
    "            \n",
    "        return df\n",
    "    \n"
   ]
  },
  {
   "cell_type": "code",
   "execution_count": 24,
   "id": "c13c02de",
   "metadata": {},
   "outputs": [
    {
     "name": "stdout",
     "output_type": "stream",
     "text": [
      "46994586\n",
      "46994586\n"
     ]
    }
   ],
   "source": [
    "print(df.count())\n",
    "\n",
    "v = ValidationIds()\n",
    "df1 = v._transform(df)\n",
    "\n",
    "print(df1.count())"
   ]
  },
  {
   "cell_type": "code",
   "execution_count": 25,
   "id": "f0d5f800",
   "metadata": {},
   "outputs": [
    {
     "data": {
      "text/html": [
       "<table border='1'>\n",
       "<tr><th>tranaction_id</th><th>tx_datetime</th><th>customer_id</th><th>terminal_id</th><th>tx_amount</th><th>tx_time_seconds</th><th>tx_time_days</th><th>tx_fraud</th><th>tx_fraud_scenario</th></tr>\n",
       "<tr><td>47009347</td><td>2019-09-21 19:52:15</td><td>undefinded_custom...</td><td>779</td><td>107.75</td><td>2663535</td><td>30</td><td>0</td><td>0</td></tr>\n",
       "<tr><td>47079004</td><td>2019-09-21 09:35:34</td><td>undefinded_custom...</td><td>972</td><td>11.88</td><td>2626534</td><td>30</td><td>0</td><td>0</td></tr>\n",
       "<tr><td>47105774</td><td>2019-09-21 10:29:57</td><td>undefinded_custom...</td><td>403</td><td>7.6</td><td>2629797</td><td>30</td><td>0</td><td>0</td></tr>\n",
       "<tr><td>47158695</td><td>2019-09-21 13:56:17</td><td>undefinded_custom...</td><td>710</td><td>5.57</td><td>2642177</td><td>30</td><td>0</td><td>0</td></tr>\n",
       "<tr><td>47392780</td><td>2019-09-21 07:49:27</td><td>undefinded_custom...</td><td>481</td><td>74.61</td><td>2620167</td><td>30</td><td>0</td><td>0</td></tr>\n",
       "<tr><td>47440508</td><td>2019-09-21 13:53:24</td><td>undefinded_custom...</td><td>754</td><td>63.82</td><td>2642004</td><td>30</td><td>0</td><td>0</td></tr>\n",
       "<tr><td>47503116</td><td>2019-09-21 19:08:16</td><td>undefinded_custom...</td><td>114</td><td>54.13</td><td>2660896</td><td>30</td><td>0</td><td>0</td></tr>\n",
       "<tr><td>47549817</td><td>2019-09-21 16:43:46</td><td>undefinded_custom...</td><td>132</td><td>26.74</td><td>2652226</td><td>30</td><td>0</td><td>0</td></tr>\n",
       "<tr><td>47668930</td><td>2019-09-21 10:27:52</td><td>undefinded_custom...</td><td>831</td><td>24.74</td><td>2629672</td><td>30</td><td>0</td><td>0</td></tr>\n",
       "<tr><td>47673768</td><td>2019-09-21 11:38:18</td><td>undefinded_custom...</td><td>580</td><td>63.21</td><td>2633898</td><td>30</td><td>0</td><td>0</td></tr>\n",
       "<tr><td>47787651</td><td>2019-09-21 08:09:27</td><td>undefinded_custom...</td><td>9</td><td>52.31</td><td>2621367</td><td>30</td><td>0</td><td>0</td></tr>\n",
       "<tr><td>47880840</td><td>2019-09-21 10:50:38</td><td>undefinded_custom...</td><td>880</td><td>59.7</td><td>2631038</td><td>30</td><td>0</td><td>0</td></tr>\n",
       "<tr><td>47990222</td><td>2019-09-21 09:08:26</td><td>undefinded_custom...</td><td>958</td><td>57.42</td><td>2624906</td><td>30</td><td>0</td><td>0</td></tr>\n",
       "<tr><td>48079485</td><td>2019-09-21 20:18:53</td><td>undefinded_custom...</td><td>971</td><td>25.13</td><td>2665133</td><td>30</td><td>0</td><td>0</td></tr>\n",
       "<tr><td>48114562</td><td>2019-09-21 15:41:05</td><td>undefinded_custom...</td><td>331</td><td>99.89</td><td>2648465</td><td>30</td><td>1</td><td>2</td></tr>\n",
       "<tr><td>48117694</td><td>2019-09-21 10:00:04</td><td>undefinded_custom...</td><td>913</td><td>7.31</td><td>2628004</td><td>30</td><td>0</td><td>0</td></tr>\n",
       "<tr><td>48229332</td><td>2019-09-21 10:30:04</td><td>undefinded_custom...</td><td>281</td><td>139.85</td><td>2629804</td><td>30</td><td>0</td><td>0</td></tr>\n",
       "<tr><td>48327896</td><td>2019-09-21 07:28:17</td><td>undefinded_custom...</td><td>521</td><td>47.41</td><td>2618897</td><td>30</td><td>0</td><td>0</td></tr>\n",
       "<tr><td>48501332</td><td>2019-09-21 08:54:42</td><td>undefinded_custom...</td><td>145</td><td>62.36</td><td>2624082</td><td>30</td><td>0</td><td>0</td></tr>\n",
       "<tr><td>48515672</td><td>2019-09-21 01:05:00</td><td>undefinded_custom...</td><td>392</td><td>53.95</td><td>2595900</td><td>30</td><td>0</td><td>0</td></tr>\n",
       "</table>\n",
       "only showing top 20 rows\n"
      ],
      "text/plain": [
       "+-------------+-------------------+--------------------+-----------+---------+---------------+------------+--------+-----------------+\n",
       "|tranaction_id|        tx_datetime|         customer_id|terminal_id|tx_amount|tx_time_seconds|tx_time_days|tx_fraud|tx_fraud_scenario|\n",
       "+-------------+-------------------+--------------------+-----------+---------+---------------+------------+--------+-----------------+\n",
       "|     47009347|2019-09-21 19:52:15|undefinded_custom...|        779|   107.75|        2663535|          30|       0|                0|\n",
       "|     47079004|2019-09-21 09:35:34|undefinded_custom...|        972|    11.88|        2626534|          30|       0|                0|\n",
       "|     47105774|2019-09-21 10:29:57|undefinded_custom...|        403|      7.6|        2629797|          30|       0|                0|\n",
       "|     47158695|2019-09-21 13:56:17|undefinded_custom...|        710|     5.57|        2642177|          30|       0|                0|\n",
       "|     47392780|2019-09-21 07:49:27|undefinded_custom...|        481|    74.61|        2620167|          30|       0|                0|\n",
       "|     47440508|2019-09-21 13:53:24|undefinded_custom...|        754|    63.82|        2642004|          30|       0|                0|\n",
       "|     47503116|2019-09-21 19:08:16|undefinded_custom...|        114|    54.13|        2660896|          30|       0|                0|\n",
       "|     47549817|2019-09-21 16:43:46|undefinded_custom...|        132|    26.74|        2652226|          30|       0|                0|\n",
       "|     47668930|2019-09-21 10:27:52|undefinded_custom...|        831|    24.74|        2629672|          30|       0|                0|\n",
       "|     47673768|2019-09-21 11:38:18|undefinded_custom...|        580|    63.21|        2633898|          30|       0|                0|\n",
       "|     47787651|2019-09-21 08:09:27|undefinded_custom...|          9|    52.31|        2621367|          30|       0|                0|\n",
       "|     47880840|2019-09-21 10:50:38|undefinded_custom...|        880|     59.7|        2631038|          30|       0|                0|\n",
       "|     47990222|2019-09-21 09:08:26|undefinded_custom...|        958|    57.42|        2624906|          30|       0|                0|\n",
       "|     48079485|2019-09-21 20:18:53|undefinded_custom...|        971|    25.13|        2665133|          30|       0|                0|\n",
       "|     48114562|2019-09-21 15:41:05|undefinded_custom...|        331|    99.89|        2648465|          30|       1|                2|\n",
       "|     48117694|2019-09-21 10:00:04|undefinded_custom...|        913|     7.31|        2628004|          30|       0|                0|\n",
       "|     48229332|2019-09-21 10:30:04|undefinded_custom...|        281|   139.85|        2629804|          30|       0|                0|\n",
       "|     48327896|2019-09-21 07:28:17|undefinded_custom...|        521|    47.41|        2618897|          30|       0|                0|\n",
       "|     48501332|2019-09-21 08:54:42|undefinded_custom...|        145|    62.36|        2624082|          30|       0|                0|\n",
       "|     48515672|2019-09-21 01:05:00|undefinded_custom...|        392|    53.95|        2595900|          30|       0|                0|\n",
       "+-------------+-------------------+--------------------+-----------+---------+---------------+------------+--------+-----------------+\n",
       "only showing top 20 rows"
      ]
     },
     "execution_count": 25,
     "metadata": {},
     "output_type": "execute_result"
    }
   ],
   "source": [
    "df1.filter(df1['customer_id'].rlike('\\D+'))"
   ]
  },
  {
   "cell_type": "code",
   "execution_count": null,
   "id": "b1516944",
   "metadata": {},
   "outputs": [],
   "source": []
  },
  {
   "cell_type": "markdown",
   "id": "cbdbd523",
   "metadata": {},
   "source": [
    "# Numeric"
   ]
  },
  {
   "cell_type": "markdown",
   "id": "aa2ee678",
   "metadata": {},
   "source": [
    "### [x] tx_amount, tx_time_seconds, tx_time_days - проверка на >0. если нулл - дать средний. выбросы удалить"
   ]
  },
  {
   "cell_type": "code",
   "execution_count": 68,
   "id": "f7d20ea1",
   "metadata": {},
   "outputs": [
    {
     "data": {
      "text/html": [
       "<table border='1'>\n",
       "<tr><th>summary</th><th>tx_amount</th></tr>\n",
       "<tr><td>count</td><td>46994586</td></tr>\n",
       "<tr><td>mean</td><td>54.23517020105954</td></tr>\n",
       "<tr><td>stddev</td><td>41.309001673205096</td></tr>\n",
       "<tr><td>min</td><td>0.0</td></tr>\n",
       "<tr><td>max</td><td>4303.07</td></tr>\n",
       "</table>\n"
      ],
      "text/plain": [
       "+-------+------------------+\n",
       "|summary|         tx_amount|\n",
       "+-------+------------------+\n",
       "|  count|          46994586|\n",
       "|   mean| 54.23517020105954|\n",
       "| stddev|41.309001673205096|\n",
       "|    min|               0.0|\n",
       "|    max|           4303.07|\n",
       "+-------+------------------+"
      ]
     },
     "execution_count": 68,
     "metadata": {},
     "output_type": "execute_result"
    }
   ],
   "source": [
    "df[['tx_amount']].describe()"
   ]
  },
  {
   "cell_type": "code",
   "execution_count": 97,
   "id": "37e3b267",
   "metadata": {},
   "outputs": [
    {
     "data": {
      "image/png": "[encoded data removed]",
      "text/plain": [
       "<Figure size 432x288 with 1 Axes>"
      ]
     },
     "metadata": {
      "needs_background": "light"
     },
     "output_type": "display_data"
    }
   ],
   "source": [
    "import matplotlib.pyplot as plt\n",
    "age_values = df.select(\"tx_amount\").rdd.flatMap(lambda x: x).collect()\n",
    "\n",
    "# Create a frequency plot using matplotlib\n",
    "plt.hist(age_values, bins=100, color='blue', edgecolor='black')\n",
    "plt.xlabel(\"tx_amount\")\n",
    "plt.ylabel(\"Frequency\")\n",
    "plt.title(\"origin amount\")\n",
    "\n",
    "# Show the plot\n",
    "plt.show()"
   ]
  },
  {
   "cell_type": "code",
   "execution_count": 43,
   "id": "31ebff20",
   "metadata": {},
   "outputs": [],
   "source": [
    "from pyspark.ml.feature import Imputer\n",
    "\n",
    "amount_imputer = Imputer(inputCol=\"tx_amount\", outputCol=\"tx_amount\", strategy=\"mean\")\n",
    "amount_imputer_model = amount_imputer.fit(df)\n",
    "\n",
    "time_seconds_imputer = Imputer(inputCol=\"tx_time_seconds\", outputCol=\"tx_time_seconds\", strategy=\"mean\")\n",
    "time_seconds_imputer_model = time_seconds_imputer.fit(df)\n",
    "\n",
    "time_days_imputer = Imputer(inputCol=\"tx_time_days\", outputCol=\"tx_time_days\", strategy=\"mean\")\n",
    "time_days_imputer_model = time_days_imputer.fit(df)\n",
    "\n",
    "prep_df = amount_imputer_model.transform(df)\n",
    "prep_df = time_seconds_imputer_model.transform(prep_df)\n",
    "prep_df = time_days_imputer_model.transform(prep_df)\n",
    "prep_df\n"
   ]
  },
  {
   "cell_type": "code",
   "execution_count": 26,
   "id": "6fcd64ff",
   "metadata": {},
   "outputs": [],
   "source": [
    "\n",
    "\n",
    "class ValidationNumerics(Transformer):\n",
    "    def __init__(self, num_list):\n",
    "        super(ValidationNumerics, self).__init__()\n",
    "        self.num_list = num_list\n",
    "        \n",
    "    def _transform(self, df):\n",
    "        for cols in self.num_list:\n",
    "            df = df[df[cols] > 0] # time has to be > 0\n",
    "            lower_quan, upper_quan = df.approxQuantile(cols, [0.25, 0.75], 0.05)\n",
    "            iqr = upper_quan - lower_quan\n",
    "            lower_extreme = lower_quan - 1.5*iqr\n",
    "            upper_extreme = upper_quan + 1.5*iqr\n",
    "            dfu = df.where(df[cols] < upper_extreme)\n",
    "            df = dfu.where(dfu[cols] > lower_extreme) # delete outliers\n",
    "\n",
    "        return df"
   ]
  },
  {
   "cell_type": "code",
   "execution_count": 27,
   "id": "c206e92f",
   "metadata": {},
   "outputs": [
    {
     "name": "stdout",
     "output_type": "stream",
     "text": [
      "46994586\n",
      "45709329\n"
     ]
    }
   ],
   "source": [
    "print(df.count())\n",
    "\n",
    "vn = ValidationNumerics(['tx_amount', 'tx_time_seconds', 'tx_time_days'])\n",
    "df1 = vn._transform(df)\n",
    "\n",
    "print(df1.count())"
   ]
  },
  {
   "cell_type": "code",
   "execution_count": 28,
   "id": "a1af7fea",
   "metadata": {},
   "outputs": [
    {
     "data": {
      "image/png": "[encoded data removed]",
      "text/plain": [
       "<Figure size 432x288 with 1 Axes>"
      ]
     },
     "metadata": {
      "needs_background": "light"
     },
     "output_type": "display_data"
    }
   ],
   "source": [
    "import matplotlib.pyplot as plt\n",
    "age_values = df1.select(\"tx_amount\").rdd.flatMap(lambda x: x).collect()\n",
    "\n",
    "# Create a frequency plot using matplotlib\n",
    "plt.hist(age_values, bins=100, color='blue', edgecolor='black')\n",
    "plt.xlabel(\"tx_amount\")\n",
    "plt.ylabel(\"Frequency\")\n",
    "plt.title(\"amount without outliers\")\n",
    "\n",
    "# Show the plot\n",
    "plt.show()"
   ]
  },
  {
   "cell_type": "markdown",
   "id": "c1872f8f",
   "metadata": {},
   "source": [
    "# categotical"
   ]
  },
  {
   "cell_type": "markdown",
   "id": "6264788a",
   "metadata": {},
   "source": [
    "### [x] tx_fraud - проверка на а) инт; б) принадледность к 0 или 1. если нулл - дать то, чего больше: 0 или 1."
   ]
  },
  {
   "cell_type": "markdown",
   "id": "31f4033c",
   "metadata": {},
   "source": [
    "### [x] tx_fraud_scenario - ohe. если нулл - дать превалирующий. проверка на интервал(?)"
   ]
  },
  {
   "cell_type": "code",
   "execution_count": 11,
   "id": "1e0d1fa9",
   "metadata": {},
   "outputs": [
    {
     "data": {
      "text/html": [
       "<table border='1'>\n",
       "<tr><th>summary</th><th>tx_fraud</th></tr>\n",
       "<tr><td>count</td><td>46988418</td></tr>\n",
       "<tr><td>mean</td><td>0.05377931642644364</td></tr>\n",
       "<tr><td>stddev</td><td>0.22558169835808653</td></tr>\n",
       "<tr><td>min</td><td>0</td></tr>\n",
       "<tr><td>max</td><td>1</td></tr>\n",
       "</table>\n"
      ],
      "text/plain": [
       "+-------+-------------------+\n",
       "|summary|           tx_fraud|\n",
       "+-------+-------------------+\n",
       "|  count|           46988418|\n",
       "|   mean|0.05377931642644364|\n",
       "| stddev|0.22558169835808653|\n",
       "|    min|                  0|\n",
       "|    max|                  1|\n",
       "+-------+-------------------+"
      ]
     },
     "execution_count": 11,
     "metadata": {},
     "output_type": "execute_result"
    }
   ],
   "source": [
    "df[['tx_fraud']].describe()"
   ]
  },
  {
   "cell_type": "code",
   "execution_count": 13,
   "id": "17ae0241",
   "metadata": {},
   "outputs": [
    {
     "data": {
      "text/html": [
       "<table border='1'>\n",
       "<tr><th>summary</th><th>tx_fraud_scenario</th></tr>\n",
       "<tr><td>count</td><td>46988418</td></tr>\n",
       "<tr><td>mean</td><td>0.10841507794537794</td></tr>\n",
       "<tr><td>stddev</td><td>0.4568780500029875</td></tr>\n",
       "<tr><td>min</td><td>0</td></tr>\n",
       "<tr><td>max</td><td>3</td></tr>\n",
       "</table>\n"
      ],
      "text/plain": [
       "+-------+-------------------+\n",
       "|summary|  tx_fraud_scenario|\n",
       "+-------+-------------------+\n",
       "|  count|           46988418|\n",
       "|   mean|0.10841507794537794|\n",
       "| stddev| 0.4568780500029875|\n",
       "|    min|                  0|\n",
       "|    max|                  3|\n",
       "+-------+-------------------+"
      ]
     },
     "execution_count": 13,
     "metadata": {},
     "output_type": "execute_result"
    }
   ],
   "source": [
    "df[['tx_fraud_scenario']].describe()"
   ]
  },
  {
   "cell_type": "code",
   "execution_count": 34,
   "id": "598ff422",
   "metadata": {},
   "outputs": [],
   "source": [
    "class ValidationBinary(Transformer):\n",
    "    def __init__(self, bin_list):\n",
    "        super(ValidationBinary, self).__init__()\n",
    "        self.bin_list = bin_list\n",
    "        \n",
    "    def _transform(self, df):\n",
    "        for colb in self.bin_list:\n",
    "            df_not_0 = df[df[colb] != 0]\n",
    "            df_only_0 = df[df[colb] == 0]\n",
    "            df_only_1 = df[df[colb] == 1]\n",
    "            df_not_10 = df_not_0[df_not_0[colb] != 1] # df10 contains not 0 and not 1\n",
    "            if df_only_0.count() > df_only_1.count():\n",
    "                df_not_10 = df_not_10.withColumn(colb, lit(0))\n",
    "            else:\n",
    "                df_not_10 = df_not_10.withColumn(colb, lit(1))\n",
    "                \n",
    "            df = df_only_0.union(df_only_1)\n",
    "            df = df.union(df_not_10)\n",
    "        return df"
   ]
  },
  {
   "cell_type": "code",
   "execution_count": 35,
   "id": "6fdb62a8",
   "metadata": {},
   "outputs": [
    {
     "name": "stdout",
     "output_type": "stream",
     "text": [
      "46994586\n",
      "46994586\n"
     ]
    }
   ],
   "source": [
    "print(df.count())\n",
    "\n",
    "v = ValidationBinary(['tx_fraud'])\n",
    "df1 = v._transform(df)\n",
    "\n",
    "print(df1.count())"
   ]
  },
  {
   "cell_type": "code",
   "execution_count": null,
   "id": "22dcd368",
   "metadata": {},
   "outputs": [],
   "source": []
  },
  {
   "cell_type": "code",
   "execution_count": 40,
   "id": "6dd515fb",
   "metadata": {},
   "outputs": [],
   "source": [
    "from pyspark.ml.feature import StringIndexer, OneHotEncoder\n",
    "\n",
    "fraud_scenario_indexer = StringIndexer(inputCol=\"tx_fraud_scenario\", outputCol=\"tx_fraud_scenario_index\")\n",
    "fraud_scenario_indexer_model = fraud_scenario_indexer.fit(df)\n",
    "df_prep = fraud_scenario_indexer_model.transform(df)\n",
    "\n",
    "fraud_scenario_encoder = OneHotEncoder(inputCol=\"tx_fraud_scenario_index\", outputCol=\"tx_fraud_scenario_encoded\")\n",
    "fraud_scenario_encoder_model = fraud_scenario_encoder.fit(df_prep)\n",
    "df_prep = fraud_scenario_encoder_model.transform(df_prep)"
   ]
  },
  {
   "cell_type": "code",
   "execution_count": 41,
   "id": "e723f0ca",
   "metadata": {},
   "outputs": [
    {
     "data": {
      "text/html": [
       "<table border='1'>\n",
       "<tr><th>tranaction_id</th><th>tx_datetime</th><th>customer_id</th><th>terminal_id</th><th>tx_amount</th><th>tx_time_seconds</th><th>tx_time_days</th><th>tx_fraud</th><th>tx_fraud_scenario</th><th>tx_fraud_scenario_index</th><th>tx_fraud_scenario_encoded</th></tr>\n",
       "<tr><td>46988237</td><td>2019-09-21 09:45:59</td><td>1</td><td>178</td><td>83.11</td><td>2627159</td><td>30</td><td>0</td><td>0</td><td>0.0</td><td>(3,[0],[1.0])</td></tr>\n",
       "<tr><td>46988238</td><td>2019-09-21 19:33:01</td><td>2</td><td>660</td><td>22.15</td><td>2662381</td><td>30</td><td>0</td><td>0</td><td>0.0</td><td>(3,[0],[1.0])</td></tr>\n",
       "<tr><td>46988239</td><td>2019-09-21 18:06:19</td><td>3</td><td>732</td><td>36.83</td><td>2657179</td><td>30</td><td>0</td><td>0</td><td>0.0</td><td>(3,[0],[1.0])</td></tr>\n",
       "<tr><td>46988240</td><td>2019-09-21 16:56:01</td><td>10</td><td>663</td><td>19.3</td><td>2652961</td><td>30</td><td>0</td><td>0</td><td>0.0</td><td>(3,[0],[1.0])</td></tr>\n",
       "<tr><td>46988241</td><td>2019-09-21 05:34:26</td><td>10</td><td>145</td><td>106.51</td><td>2612066</td><td>30</td><td>0</td><td>0</td><td>0.0</td><td>(3,[0],[1.0])</td></tr>\n",
       "<tr><td>46988242</td><td>2019-09-21 12:12:51</td><td>11</td><td>337</td><td>53.97</td><td>2635971</td><td>30</td><td>0</td><td>0</td><td>0.0</td><td>(3,[0],[1.0])</td></tr>\n",
       "<tr><td>46988243</td><td>2019-09-21 11:05:32</td><td>11</td><td>973</td><td>29.3</td><td>2631932</td><td>30</td><td>0</td><td>0</td><td>0.0</td><td>(3,[0],[1.0])</td></tr>\n",
       "<tr><td>46988244</td><td>2019-09-21 15:13:40</td><td>11</td><td>975</td><td>28.59</td><td>2646820</td><td>30</td><td>0</td><td>0</td><td>0.0</td><td>(3,[0],[1.0])</td></tr>\n",
       "<tr><td>46988245</td><td>2019-09-21 16:47:20</td><td>12</td><td>522</td><td>88.02</td><td>2652440</td><td>30</td><td>0</td><td>0</td><td>0.0</td><td>(3,[0],[1.0])</td></tr>\n",
       "<tr><td>46988246</td><td>2019-09-21 07:57:03</td><td>12</td><td>522</td><td>77.39</td><td>2620623</td><td>30</td><td>0</td><td>0</td><td>0.0</td><td>(3,[0],[1.0])</td></tr>\n",
       "<tr><td>46988247</td><td>2019-09-21 14:47:46</td><td>13</td><td>51</td><td>84.32</td><td>2645266</td><td>30</td><td>0</td><td>0</td><td>0.0</td><td>(3,[0],[1.0])</td></tr>\n",
       "<tr><td>46988248</td><td>2019-09-21 07:04:56</td><td>13</td><td>440</td><td>43.3</td><td>2617496</td><td>30</td><td>0</td><td>0</td><td>0.0</td><td>(3,[0],[1.0])</td></tr>\n",
       "<tr><td>46988249</td><td>2019-09-21 06:49:40</td><td>13</td><td>819</td><td>72.7</td><td>2616580</td><td>30</td><td>0</td><td>0</td><td>0.0</td><td>(3,[0],[1.0])</td></tr>\n",
       "<tr><td>46988250</td><td>2019-09-21 19:53:28</td><td>14</td><td>892</td><td>1.46</td><td>2663608</td><td>30</td><td>0</td><td>0</td><td>0.0</td><td>(3,[0],[1.0])</td></tr>\n",
       "<tr><td>46988251</td><td>2019-09-21 19:04:13</td><td>15</td><td>505</td><td>52.54</td><td>2660653</td><td>30</td><td>1</td><td>2</td><td>1.0</td><td>(3,[1],[1.0])</td></tr>\n",
       "<tr><td>46988252</td><td>2019-09-21 07:34:48</td><td>15</td><td>145</td><td>34.87</td><td>2619288</td><td>30</td><td>0</td><td>0</td><td>0.0</td><td>(3,[0],[1.0])</td></tr>\n",
       "<tr><td>46988253</td><td>2019-09-21 06:53:08</td><td>18</td><td>182</td><td>66.25</td><td>2616788</td><td>30</td><td>0</td><td>0</td><td>0.0</td><td>(3,[0],[1.0])</td></tr>\n",
       "<tr><td>46988254</td><td>2019-09-21 08:57:22</td><td>18</td><td>561</td><td>107.31</td><td>2624242</td><td>30</td><td>0</td><td>0</td><td>0.0</td><td>(3,[0],[1.0])</td></tr>\n",
       "<tr><td>46988255</td><td>2019-09-21 06:49:38</td><td>21</td><td>273</td><td>83.25</td><td>2616578</td><td>30</td><td>0</td><td>0</td><td>0.0</td><td>(3,[0],[1.0])</td></tr>\n",
       "<tr><td>46988256</td><td>2019-09-21 07:55:29</td><td>21</td><td>375</td><td>93.28</td><td>2620529</td><td>30</td><td>0</td><td>0</td><td>0.0</td><td>(3,[0],[1.0])</td></tr>\n",
       "</table>\n",
       "only showing top 20 rows\n"
      ],
      "text/plain": [
       "+-------------+-------------------+-----------+-----------+---------+---------------+------------+--------+-----------------+-----------------------+-------------------------+\n",
       "|tranaction_id|        tx_datetime|customer_id|terminal_id|tx_amount|tx_time_seconds|tx_time_days|tx_fraud|tx_fraud_scenario|tx_fraud_scenario_index|tx_fraud_scenario_encoded|\n",
       "+-------------+-------------------+-----------+-----------+---------+---------------+------------+--------+-----------------+-----------------------+-------------------------+\n",
       "|     46988237|2019-09-21 09:45:59|          1|        178|    83.11|        2627159|          30|       0|                0|                    0.0|            (3,[0],[1.0])|\n",
       "|     46988238|2019-09-21 19:33:01|          2|        660|    22.15|        2662381|          30|       0|                0|                    0.0|            (3,[0],[1.0])|\n",
       "|     46988239|2019-09-21 18:06:19|          3|        732|    36.83|        2657179|          30|       0|                0|                    0.0|            (3,[0],[1.0])|\n",
       "|     46988240|2019-09-21 16:56:01|         10|        663|     19.3|        2652961|          30|       0|                0|                    0.0|            (3,[0],[1.0])|\n",
       "|     46988241|2019-09-21 05:34:26|         10|        145|   106.51|        2612066|          30|       0|                0|                    0.0|            (3,[0],[1.0])|\n",
       "|     46988242|2019-09-21 12:12:51|         11|        337|    53.97|        2635971|          30|       0|                0|                    0.0|            (3,[0],[1.0])|\n",
       "|     46988243|2019-09-21 11:05:32|         11|        973|     29.3|        2631932|          30|       0|                0|                    0.0|            (3,[0],[1.0])|\n",
       "|     46988244|2019-09-21 15:13:40|         11|        975|    28.59|        2646820|          30|       0|                0|                    0.0|            (3,[0],[1.0])|\n",
       "|     46988245|2019-09-21 16:47:20|         12|        522|    88.02|        2652440|          30|       0|                0|                    0.0|            (3,[0],[1.0])|\n",
       "|     46988246|2019-09-21 07:57:03|         12|        522|    77.39|        2620623|          30|       0|                0|                    0.0|            (3,[0],[1.0])|\n",
       "|     46988247|2019-09-21 14:47:46|         13|         51|    84.32|        2645266|          30|       0|                0|                    0.0|            (3,[0],[1.0])|\n",
       "|     46988248|2019-09-21 07:04:56|         13|        440|     43.3|        2617496|          30|       0|                0|                    0.0|            (3,[0],[1.0])|\n",
       "|     46988249|2019-09-21 06:49:40|         13|        819|     72.7|        2616580|          30|       0|                0|                    0.0|            (3,[0],[1.0])|\n",
       "|     46988250|2019-09-21 19:53:28|         14|        892|     1.46|        2663608|          30|       0|                0|                    0.0|            (3,[0],[1.0])|\n",
       "|     46988251|2019-09-21 19:04:13|         15|        505|    52.54|        2660653|          30|       1|                2|                    1.0|            (3,[1],[1.0])|\n",
       "|     46988252|2019-09-21 07:34:48|         15|        145|    34.87|        2619288|          30|       0|                0|                    0.0|            (3,[0],[1.0])|\n",
       "|     46988253|2019-09-21 06:53:08|         18|        182|    66.25|        2616788|          30|       0|                0|                    0.0|            (3,[0],[1.0])|\n",
       "|     46988254|2019-09-21 08:57:22|         18|        561|   107.31|        2624242|          30|       0|                0|                    0.0|            (3,[0],[1.0])|\n",
       "|     46988255|2019-09-21 06:49:38|         21|        273|    83.25|        2616578|          30|       0|                0|                    0.0|            (3,[0],[1.0])|\n",
       "|     46988256|2019-09-21 07:55:29|         21|        375|    93.28|        2620529|          30|       0|                0|                    0.0|            (3,[0],[1.0])|\n",
       "+-------------+-------------------+-----------+-----------+---------+---------------+------------+--------+-----------------+-----------------------+-------------------------+\n",
       "only showing top 20 rows"
      ]
     },
     "execution_count": 41,
     "metadata": {},
     "output_type": "execute_result"
    }
   ],
   "source": [
    "df_prep"
   ]
  },
  {
   "cell_type": "code",
   "execution_count": null,
   "id": "ea63ab0e",
   "metadata": {},
   "outputs": [],
   "source": []
  },
  {
   "cell_type": "code",
   "execution_count": 44,
   "id": "c5ff273d",
   "metadata": {},
   "outputs": [
    {
     "data": {
      "text/html": [
       "<table border='1'>\n",
       "<tr><th>tranaction_id</th><th>tx_datetime</th><th>customer_id</th><th>terminal_id</th><th>tx_amount</th><th>tx_time_seconds</th><th>tx_time_days</th><th>tx_fraud</th><th>tx_fraud_scenario</th><th>tx_fraud_scenario_index</th><th>tx_fraud_scenario_encoded</th></tr>\n",
       "<tr><td>46988237</td><td>2019-09-21 09:45:59</td><td>1</td><td>178</td><td>83.11</td><td>2627159</td><td>30</td><td>0</td><td>0</td><td>0.0</td><td>(2,[0],[1.0])</td></tr>\n",
       "<tr><td>46988238</td><td>2019-09-21 19:33:01</td><td>2</td><td>660</td><td>22.15</td><td>2662381</td><td>30</td><td>0</td><td>0</td><td>0.0</td><td>(2,[0],[1.0])</td></tr>\n",
       "<tr><td>46988239</td><td>2019-09-21 18:06:19</td><td>3</td><td>732</td><td>36.83</td><td>2657179</td><td>30</td><td>0</td><td>0</td><td>0.0</td><td>(2,[0],[1.0])</td></tr>\n",
       "<tr><td>46988240</td><td>2019-09-21 16:56:01</td><td>10</td><td>663</td><td>19.3</td><td>2652961</td><td>30</td><td>0</td><td>0</td><td>0.0</td><td>(2,[0],[1.0])</td></tr>\n",
       "<tr><td>46988241</td><td>2019-09-21 05:34:26</td><td>10</td><td>145</td><td>106.51</td><td>2612066</td><td>30</td><td>0</td><td>0</td><td>0.0</td><td>(2,[0],[1.0])</td></tr>\n",
       "<tr><td>46988242</td><td>2019-09-21 12:12:51</td><td>11</td><td>337</td><td>53.97</td><td>2635971</td><td>30</td><td>0</td><td>0</td><td>0.0</td><td>(2,[0],[1.0])</td></tr>\n",
       "<tr><td>46988243</td><td>2019-09-21 11:05:32</td><td>11</td><td>973</td><td>29.3</td><td>2631932</td><td>30</td><td>0</td><td>0</td><td>0.0</td><td>(2,[0],[1.0])</td></tr>\n",
       "<tr><td>46988244</td><td>2019-09-21 15:13:40</td><td>11</td><td>975</td><td>28.59</td><td>2646820</td><td>30</td><td>0</td><td>0</td><td>0.0</td><td>(2,[0],[1.0])</td></tr>\n",
       "<tr><td>46988245</td><td>2019-09-21 16:47:20</td><td>12</td><td>522</td><td>88.02</td><td>2652440</td><td>30</td><td>0</td><td>0</td><td>0.0</td><td>(2,[0],[1.0])</td></tr>\n",
       "<tr><td>46988246</td><td>2019-09-21 07:57:03</td><td>12</td><td>522</td><td>77.39</td><td>2620623</td><td>30</td><td>0</td><td>0</td><td>0.0</td><td>(2,[0],[1.0])</td></tr>\n",
       "<tr><td>46988247</td><td>2019-09-21 14:47:46</td><td>13</td><td>51</td><td>84.32</td><td>2645266</td><td>30</td><td>0</td><td>0</td><td>0.0</td><td>(2,[0],[1.0])</td></tr>\n",
       "<tr><td>46988248</td><td>2019-09-21 07:04:56</td><td>13</td><td>440</td><td>43.3</td><td>2617496</td><td>30</td><td>0</td><td>0</td><td>0.0</td><td>(2,[0],[1.0])</td></tr>\n",
       "<tr><td>46988249</td><td>2019-09-21 06:49:40</td><td>13</td><td>819</td><td>72.7</td><td>2616580</td><td>30</td><td>0</td><td>0</td><td>0.0</td><td>(2,[0],[1.0])</td></tr>\n",
       "<tr><td>46988250</td><td>2019-09-21 19:53:28</td><td>14</td><td>892</td><td>1.46</td><td>2663608</td><td>30</td><td>0</td><td>0</td><td>0.0</td><td>(2,[0],[1.0])</td></tr>\n",
       "<tr><td>46988252</td><td>2019-09-21 07:34:48</td><td>15</td><td>145</td><td>34.87</td><td>2619288</td><td>30</td><td>0</td><td>0</td><td>0.0</td><td>(2,[0],[1.0])</td></tr>\n",
       "<tr><td>46988253</td><td>2019-09-21 06:53:08</td><td>18</td><td>182</td><td>66.25</td><td>2616788</td><td>30</td><td>0</td><td>0</td><td>0.0</td><td>(2,[0],[1.0])</td></tr>\n",
       "<tr><td>46988254</td><td>2019-09-21 08:57:22</td><td>18</td><td>561</td><td>107.31</td><td>2624242</td><td>30</td><td>0</td><td>0</td><td>0.0</td><td>(2,[0],[1.0])</td></tr>\n",
       "<tr><td>46988255</td><td>2019-09-21 06:49:38</td><td>21</td><td>273</td><td>83.25</td><td>2616578</td><td>30</td><td>0</td><td>0</td><td>0.0</td><td>(2,[0],[1.0])</td></tr>\n",
       "<tr><td>46988256</td><td>2019-09-21 07:55:29</td><td>21</td><td>375</td><td>93.28</td><td>2620529</td><td>30</td><td>0</td><td>0</td><td>0.0</td><td>(2,[0],[1.0])</td></tr>\n",
       "<tr><td>46988257</td><td>2019-09-21 18:58:35</td><td>21</td><td>375</td><td>24.26</td><td>2660315</td><td>30</td><td>0</td><td>0</td><td>0.0</td><td>(2,[0],[1.0])</td></tr>\n",
       "</table>\n",
       "only showing top 20 rows\n"
      ],
      "text/plain": [
       "+-------------+-------------------+-----------+-----------+---------+---------------+------------+--------+-----------------+-----------------------+-------------------------+\n",
       "|tranaction_id|        tx_datetime|customer_id|terminal_id|tx_amount|tx_time_seconds|tx_time_days|tx_fraud|tx_fraud_scenario|tx_fraud_scenario_index|tx_fraud_scenario_encoded|\n",
       "+-------------+-------------------+-----------+-----------+---------+---------------+------------+--------+-----------------+-----------------------+-------------------------+\n",
       "|     46988237|2019-09-21 09:45:59|          1|        178|    83.11|        2627159|          30|       0|                0|                    0.0|            (2,[0],[1.0])|\n",
       "|     46988238|2019-09-21 19:33:01|          2|        660|    22.15|        2662381|          30|       0|                0|                    0.0|            (2,[0],[1.0])|\n",
       "|     46988239|2019-09-21 18:06:19|          3|        732|    36.83|        2657179|          30|       0|                0|                    0.0|            (2,[0],[1.0])|\n",
       "|     46988240|2019-09-21 16:56:01|         10|        663|     19.3|        2652961|          30|       0|                0|                    0.0|            (2,[0],[1.0])|\n",
       "|     46988241|2019-09-21 05:34:26|         10|        145|   106.51|        2612066|          30|       0|                0|                    0.0|            (2,[0],[1.0])|\n",
       "|     46988242|2019-09-21 12:12:51|         11|        337|    53.97|        2635971|          30|       0|                0|                    0.0|            (2,[0],[1.0])|\n",
       "|     46988243|2019-09-21 11:05:32|         11|        973|     29.3|        2631932|          30|       0|                0|                    0.0|            (2,[0],[1.0])|\n",
       "|     46988244|2019-09-21 15:13:40|         11|        975|    28.59|        2646820|          30|       0|                0|                    0.0|            (2,[0],[1.0])|\n",
       "|     46988245|2019-09-21 16:47:20|         12|        522|    88.02|        2652440|          30|       0|                0|                    0.0|            (2,[0],[1.0])|\n",
       "|     46988246|2019-09-21 07:57:03|         12|        522|    77.39|        2620623|          30|       0|                0|                    0.0|            (2,[0],[1.0])|\n",
       "|     46988247|2019-09-21 14:47:46|         13|         51|    84.32|        2645266|          30|       0|                0|                    0.0|            (2,[0],[1.0])|\n",
       "|     46988248|2019-09-21 07:04:56|         13|        440|     43.3|        2617496|          30|       0|                0|                    0.0|            (2,[0],[1.0])|\n",
       "|     46988249|2019-09-21 06:49:40|         13|        819|     72.7|        2616580|          30|       0|                0|                    0.0|            (2,[0],[1.0])|\n",
       "|     46988250|2019-09-21 19:53:28|         14|        892|     1.46|        2663608|          30|       0|                0|                    0.0|            (2,[0],[1.0])|\n",
       "|     46988252|2019-09-21 07:34:48|         15|        145|    34.87|        2619288|          30|       0|                0|                    0.0|            (2,[0],[1.0])|\n",
       "|     46988253|2019-09-21 06:53:08|         18|        182|    66.25|        2616788|          30|       0|                0|                    0.0|            (2,[0],[1.0])|\n",
       "|     46988254|2019-09-21 08:57:22|         18|        561|   107.31|        2624242|          30|       0|                0|                    0.0|            (2,[0],[1.0])|\n",
       "|     46988255|2019-09-21 06:49:38|         21|        273|    83.25|        2616578|          30|       0|                0|                    0.0|            (2,[0],[1.0])|\n",
       "|     46988256|2019-09-21 07:55:29|         21|        375|    93.28|        2620529|          30|       0|                0|                    0.0|            (2,[0],[1.0])|\n",
       "|     46988257|2019-09-21 18:58:35|         21|        375|    24.26|        2660315|          30|       0|                0|                    0.0|            (2,[0],[1.0])|\n",
       "+-------------+-------------------+-----------+-----------+---------+---------------+------------+--------+-----------------+-----------------------+-------------------------+\n",
       "only showing top 20 rows"
      ]
     },
     "execution_count": 44,
     "metadata": {},
     "output_type": "execute_result"
    }
   ],
   "source": [
    "vids = ValidationIds()\n",
    "vnum = ValidationNumerics(['tx_amount', 'tx_time_seconds', 'tx_time_days'])\n",
    "amount_imputer = Imputer(inputCol=\"tx_amount\", outputCol=\"tx_amount\", strategy=\"mean\")\n",
    "time_seconds_imputer = Imputer(inputCol=\"tx_time_seconds\", outputCol=\"tx_time_seconds\", strategy=\"mean\")\n",
    "time_days_imputer = Imputer(inputCol=\"tx_time_days\", outputCol=\"tx_time_days\", strategy=\"mean\")\n",
    "vbin = ValidationBinary(['tx_fraud'])\n",
    "fraud_scenario_indexer = StringIndexer(inputCol=\"tx_fraud_scenario\", outputCol=\"tx_fraud_scenario_index\")\n",
    "fraud_scenario_encoder = OneHotEncoder(inputCol=\"tx_fraud_scenario_index\", outputCol=\"tx_fraud_scenario_encoded\")\n",
    "\n",
    "feat_ext_pipe = Pipeline(stages=[\n",
    "    vids,\n",
    "    vnum,\n",
    "    amount_imputer,\n",
    "    time_seconds_imputer,\n",
    "    time_days_imputer,\n",
    "    vbin,\n",
    "    fraud_scenario_indexer,\n",
    "    fraud_scenario_encoder\n",
    "    ]).fit(df)\n",
    "\n",
    "\n",
    "\n",
    "feat_df = feat_ext_pipe.transform(df)\n",
    "feat_df"
   ]
  },
  {
   "cell_type": "markdown",
   "id": "8ee4605e",
   "metadata": {},
   "source": [
    "# save"
   ]
  },
  {
   "cell_type": "code",
   "execution_count": 45,
   "id": "cc17c22e",
   "metadata": {},
   "outputs": [],
   "source": [
    "feat_df.write.mode(\"overwrite\").parquet(\"s3a://mlops-course-bucket/third_hw/train.parquet\")"
   ]
  },
  {
   "cell_type": "markdown",
   "id": "2ced9b0c",
   "metadata": {},
   "source": [
    "# черновик"
   ]
  }
 ],
 "metadata": {
  "kernelspec": {
   "display_name": "Python 3",
   "language": "python",
   "name": "python3"
  },
  "language_info": {
   "codemirror_mode": {
    "name": "ipython",
    "version": 3
   },
   "file_extension": ".py",
   "mimetype": "text/x-python",
   "name": "python",
   "nbconvert_exporter": "python",
   "pygments_lexer": "ipython3",
   "version": "3.8.10"
  }
 },
 "nbformat": 4,
 "nbformat_minor": 5
}
